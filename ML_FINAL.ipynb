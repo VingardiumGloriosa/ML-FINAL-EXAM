{
  "nbformat": 4,
  "nbformat_minor": 0,
  "metadata": {
    "colab": {
      "name": "ML-FINAL.ipynb",
      "provenance": [],
      "collapsed_sections": []
    },
    "kernelspec": {
      "name": "python3",
      "display_name": "Python 3"
    },
    "language_info": {
      "name": "python"
    }
  },
  "cells": [
    {
      "cell_type": "code",
      "execution_count": 2,
      "metadata": {
        "id": "YRfh8f_bHUse"
      },
      "outputs": [],
      "source": [
        "import numpy as np\n",
        "import pandas as pd\n",
        "import seaborn as sns\n",
        "from sklearn.model_selection import train_test_split\n",
        "from sklearn.preprocessing import StandardScaler\n",
        "from tensorflow.keras.models import Sequential\n",
        "from tensorflow.keras.layers import Dense\n",
        "from tensorflow.keras.optimizers import Adam\n",
        "from tensorflow.keras.models import load_model\n",
        "import tensorflow as tf\n",
        "from sklearn.metrics import confusion_matrix, accuracy_score\n",
        "from pickle import dump,load"
      ]
    },
    {
      "cell_type": "code",
      "source": [
        "!rm -r ML-FINAL-EXAM//  \n",
        "!git clone https://github.com/VingardiumGloriosa/ML-FINAL-EXAM"
      ],
      "metadata": {
        "colab": {
          "base_uri": "https://localhost:8080/"
        },
        "id": "WXn_RJ9vHX1d",
        "outputId": "da33e042-bfa9-46de-ae1a-3640d317218d"
      },
      "execution_count": 3,
      "outputs": [
        {
          "output_type": "stream",
          "name": "stdout",
          "text": [
            "rm: cannot remove 'ML-FINAL-EXAM/': No such file or directory\n",
            "Cloning into 'ML-FINAL-EXAM'...\n",
            "remote: Enumerating objects: 15, done.\u001b[K\n",
            "remote: Counting objects: 100% (15/15), done.\u001b[K\n",
            "remote: Compressing objects: 100% (14/14), done.\u001b[K\n",
            "remote: Total 15 (delta 3), reused 13 (delta 1), pack-reused 0\u001b[K\n",
            "Unpacking objects: 100% (15/15), done.\n"
          ]
        }
      ]
    },
    {
      "cell_type": "code",
      "source": [
        "dataFrame = pd.read_csv('ML-FINAL-EXAM/b_depressed.csv') "
      ],
      "metadata": {
        "id": "CgBKJKlAHaG6"
      },
      "execution_count": 4,
      "outputs": []
    },
    {
      "cell_type": "code",
      "source": [
        "dataFrame.head()"
      ],
      "metadata": {
        "colab": {
          "base_uri": "https://localhost:8080/",
          "height": 300
        },
        "id": "epkYoL4fYGeV",
        "outputId": "31716bb2-c38b-4412-8ffc-d9771dd8cdc7"
      },
      "execution_count": 5,
      "outputs": [
        {
          "output_type": "execute_result",
          "data": {
            "text/plain": [
              "   Survey_id  Ville_id  sex  Age  Married  Number_children  education_level  \\\n",
              "0        926        91    1   28        1                4               10   \n",
              "1        747        57    1   23        1                3                8   \n",
              "2       1190       115    1   22        1                3                9   \n",
              "3       1065        97    1   27        1                2               10   \n",
              "4        806        42    0   59        0                4               10   \n",
              "\n",
              "   total_members  gained_asset  durable_asset  ...  incoming_salary  \\\n",
              "0              5      28912201       22861940  ...                0   \n",
              "1              5      28912201       22861940  ...                0   \n",
              "2              5      28912201       22861940  ...                0   \n",
              "3              4      52667108       19698904  ...                0   \n",
              "4              6      82606287       17352654  ...                1   \n",
              "\n",
              "   incoming_own_farm  incoming_business  incoming_no_business  \\\n",
              "0                  0                  0                     0   \n",
              "1                  0                  0                     0   \n",
              "2                  0                  0                     0   \n",
              "3                  1                  0                     1   \n",
              "4                  0                  0                     0   \n",
              "\n",
              "   incoming_agricultural  farm_expenses  labor_primary  lasting_investment  \\\n",
              "0               30028818       31363432              0            28411718   \n",
              "1               30028818       31363432              0            28411718   \n",
              "2               30028818       31363432              0            28411718   \n",
              "3               22288055       18751329              0             7781123   \n",
              "4               53384566       20731006              1            20100562   \n",
              "\n",
              "   no_lasting_investmen  depressed  \n",
              "0            28292707.0          0  \n",
              "1            28292707.0          1  \n",
              "2            28292707.0          0  \n",
              "3            69219765.0          0  \n",
              "4            43419447.0          0  \n",
              "\n",
              "[5 rows x 23 columns]"
            ],
            "text/html": [
              "\n",
              "  <div id=\"df-b24a3c14-8c45-4d8d-8f9e-ef1e81260ae2\">\n",
              "    <div class=\"colab-df-container\">\n",
              "      <div>\n",
              "<style scoped>\n",
              "    .dataframe tbody tr th:only-of-type {\n",
              "        vertical-align: middle;\n",
              "    }\n",
              "\n",
              "    .dataframe tbody tr th {\n",
              "        vertical-align: top;\n",
              "    }\n",
              "\n",
              "    .dataframe thead th {\n",
              "        text-align: right;\n",
              "    }\n",
              "</style>\n",
              "<table border=\"1\" class=\"dataframe\">\n",
              "  <thead>\n",
              "    <tr style=\"text-align: right;\">\n",
              "      <th></th>\n",
              "      <th>Survey_id</th>\n",
              "      <th>Ville_id</th>\n",
              "      <th>sex</th>\n",
              "      <th>Age</th>\n",
              "      <th>Married</th>\n",
              "      <th>Number_children</th>\n",
              "      <th>education_level</th>\n",
              "      <th>total_members</th>\n",
              "      <th>gained_asset</th>\n",
              "      <th>durable_asset</th>\n",
              "      <th>...</th>\n",
              "      <th>incoming_salary</th>\n",
              "      <th>incoming_own_farm</th>\n",
              "      <th>incoming_business</th>\n",
              "      <th>incoming_no_business</th>\n",
              "      <th>incoming_agricultural</th>\n",
              "      <th>farm_expenses</th>\n",
              "      <th>labor_primary</th>\n",
              "      <th>lasting_investment</th>\n",
              "      <th>no_lasting_investmen</th>\n",
              "      <th>depressed</th>\n",
              "    </tr>\n",
              "  </thead>\n",
              "  <tbody>\n",
              "    <tr>\n",
              "      <th>0</th>\n",
              "      <td>926</td>\n",
              "      <td>91</td>\n",
              "      <td>1</td>\n",
              "      <td>28</td>\n",
              "      <td>1</td>\n",
              "      <td>4</td>\n",
              "      <td>10</td>\n",
              "      <td>5</td>\n",
              "      <td>28912201</td>\n",
              "      <td>22861940</td>\n",
              "      <td>...</td>\n",
              "      <td>0</td>\n",
              "      <td>0</td>\n",
              "      <td>0</td>\n",
              "      <td>0</td>\n",
              "      <td>30028818</td>\n",
              "      <td>31363432</td>\n",
              "      <td>0</td>\n",
              "      <td>28411718</td>\n",
              "      <td>28292707.0</td>\n",
              "      <td>0</td>\n",
              "    </tr>\n",
              "    <tr>\n",
              "      <th>1</th>\n",
              "      <td>747</td>\n",
              "      <td>57</td>\n",
              "      <td>1</td>\n",
              "      <td>23</td>\n",
              "      <td>1</td>\n",
              "      <td>3</td>\n",
              "      <td>8</td>\n",
              "      <td>5</td>\n",
              "      <td>28912201</td>\n",
              "      <td>22861940</td>\n",
              "      <td>...</td>\n",
              "      <td>0</td>\n",
              "      <td>0</td>\n",
              "      <td>0</td>\n",
              "      <td>0</td>\n",
              "      <td>30028818</td>\n",
              "      <td>31363432</td>\n",
              "      <td>0</td>\n",
              "      <td>28411718</td>\n",
              "      <td>28292707.0</td>\n",
              "      <td>1</td>\n",
              "    </tr>\n",
              "    <tr>\n",
              "      <th>2</th>\n",
              "      <td>1190</td>\n",
              "      <td>115</td>\n",
              "      <td>1</td>\n",
              "      <td>22</td>\n",
              "      <td>1</td>\n",
              "      <td>3</td>\n",
              "      <td>9</td>\n",
              "      <td>5</td>\n",
              "      <td>28912201</td>\n",
              "      <td>22861940</td>\n",
              "      <td>...</td>\n",
              "      <td>0</td>\n",
              "      <td>0</td>\n",
              "      <td>0</td>\n",
              "      <td>0</td>\n",
              "      <td>30028818</td>\n",
              "      <td>31363432</td>\n",
              "      <td>0</td>\n",
              "      <td>28411718</td>\n",
              "      <td>28292707.0</td>\n",
              "      <td>0</td>\n",
              "    </tr>\n",
              "    <tr>\n",
              "      <th>3</th>\n",
              "      <td>1065</td>\n",
              "      <td>97</td>\n",
              "      <td>1</td>\n",
              "      <td>27</td>\n",
              "      <td>1</td>\n",
              "      <td>2</td>\n",
              "      <td>10</td>\n",
              "      <td>4</td>\n",
              "      <td>52667108</td>\n",
              "      <td>19698904</td>\n",
              "      <td>...</td>\n",
              "      <td>0</td>\n",
              "      <td>1</td>\n",
              "      <td>0</td>\n",
              "      <td>1</td>\n",
              "      <td>22288055</td>\n",
              "      <td>18751329</td>\n",
              "      <td>0</td>\n",
              "      <td>7781123</td>\n",
              "      <td>69219765.0</td>\n",
              "      <td>0</td>\n",
              "    </tr>\n",
              "    <tr>\n",
              "      <th>4</th>\n",
              "      <td>806</td>\n",
              "      <td>42</td>\n",
              "      <td>0</td>\n",
              "      <td>59</td>\n",
              "      <td>0</td>\n",
              "      <td>4</td>\n",
              "      <td>10</td>\n",
              "      <td>6</td>\n",
              "      <td>82606287</td>\n",
              "      <td>17352654</td>\n",
              "      <td>...</td>\n",
              "      <td>1</td>\n",
              "      <td>0</td>\n",
              "      <td>0</td>\n",
              "      <td>0</td>\n",
              "      <td>53384566</td>\n",
              "      <td>20731006</td>\n",
              "      <td>1</td>\n",
              "      <td>20100562</td>\n",
              "      <td>43419447.0</td>\n",
              "      <td>0</td>\n",
              "    </tr>\n",
              "  </tbody>\n",
              "</table>\n",
              "<p>5 rows × 23 columns</p>\n",
              "</div>\n",
              "      <button class=\"colab-df-convert\" onclick=\"convertToInteractive('df-b24a3c14-8c45-4d8d-8f9e-ef1e81260ae2')\"\n",
              "              title=\"Convert this dataframe to an interactive table.\"\n",
              "              style=\"display:none;\">\n",
              "        \n",
              "  <svg xmlns=\"http://www.w3.org/2000/svg\" height=\"24px\"viewBox=\"0 0 24 24\"\n",
              "       width=\"24px\">\n",
              "    <path d=\"M0 0h24v24H0V0z\" fill=\"none\"/>\n",
              "    <path d=\"M18.56 5.44l.94 2.06.94-2.06 2.06-.94-2.06-.94-.94-2.06-.94 2.06-2.06.94zm-11 1L8.5 8.5l.94-2.06 2.06-.94-2.06-.94L8.5 2.5l-.94 2.06-2.06.94zm10 10l.94 2.06.94-2.06 2.06-.94-2.06-.94-.94-2.06-.94 2.06-2.06.94z\"/><path d=\"M17.41 7.96l-1.37-1.37c-.4-.4-.92-.59-1.43-.59-.52 0-1.04.2-1.43.59L10.3 9.45l-7.72 7.72c-.78.78-.78 2.05 0 2.83L4 21.41c.39.39.9.59 1.41.59.51 0 1.02-.2 1.41-.59l7.78-7.78 2.81-2.81c.8-.78.8-2.07 0-2.86zM5.41 20L4 18.59l7.72-7.72 1.47 1.35L5.41 20z\"/>\n",
              "  </svg>\n",
              "      </button>\n",
              "      \n",
              "  <style>\n",
              "    .colab-df-container {\n",
              "      display:flex;\n",
              "      flex-wrap:wrap;\n",
              "      gap: 12px;\n",
              "    }\n",
              "\n",
              "    .colab-df-convert {\n",
              "      background-color: #E8F0FE;\n",
              "      border: none;\n",
              "      border-radius: 50%;\n",
              "      cursor: pointer;\n",
              "      display: none;\n",
              "      fill: #1967D2;\n",
              "      height: 32px;\n",
              "      padding: 0 0 0 0;\n",
              "      width: 32px;\n",
              "    }\n",
              "\n",
              "    .colab-df-convert:hover {\n",
              "      background-color: #E2EBFA;\n",
              "      box-shadow: 0px 1px 2px rgba(60, 64, 67, 0.3), 0px 1px 3px 1px rgba(60, 64, 67, 0.15);\n",
              "      fill: #174EA6;\n",
              "    }\n",
              "\n",
              "    [theme=dark] .colab-df-convert {\n",
              "      background-color: #3B4455;\n",
              "      fill: #D2E3FC;\n",
              "    }\n",
              "\n",
              "    [theme=dark] .colab-df-convert:hover {\n",
              "      background-color: #434B5C;\n",
              "      box-shadow: 0px 1px 3px 1px rgba(0, 0, 0, 0.15);\n",
              "      filter: drop-shadow(0px 1px 2px rgba(0, 0, 0, 0.3));\n",
              "      fill: #FFFFFF;\n",
              "    }\n",
              "  </style>\n",
              "\n",
              "      <script>\n",
              "        const buttonEl =\n",
              "          document.querySelector('#df-b24a3c14-8c45-4d8d-8f9e-ef1e81260ae2 button.colab-df-convert');\n",
              "        buttonEl.style.display =\n",
              "          google.colab.kernel.accessAllowed ? 'block' : 'none';\n",
              "\n",
              "        async function convertToInteractive(key) {\n",
              "          const element = document.querySelector('#df-b24a3c14-8c45-4d8d-8f9e-ef1e81260ae2');\n",
              "          const dataTable =\n",
              "            await google.colab.kernel.invokeFunction('convertToInteractive',\n",
              "                                                     [key], {});\n",
              "          if (!dataTable) return;\n",
              "\n",
              "          const docLinkHtml = 'Like what you see? Visit the ' +\n",
              "            '<a target=\"_blank\" href=https://colab.research.google.com/notebooks/data_table.ipynb>data table notebook</a>'\n",
              "            + ' to learn more about interactive tables.';\n",
              "          element.innerHTML = '';\n",
              "          dataTable['output_type'] = 'display_data';\n",
              "          await google.colab.output.renderOutput(dataTable, element);\n",
              "          const docLink = document.createElement('div');\n",
              "          docLink.innerHTML = docLinkHtml;\n",
              "          element.appendChild(docLink);\n",
              "        }\n",
              "      </script>\n",
              "    </div>\n",
              "  </div>\n",
              "  "
            ]
          },
          "metadata": {},
          "execution_count": 5
        }
      ]
    },
    {
      "cell_type": "code",
      "source": [
        "dataFrame.isnull().sum()\n",
        "dataFrame.dropna(inplace=True)"
      ],
      "metadata": {
        "id": "ZAQyI6vqYKDb"
      },
      "execution_count": 6,
      "outputs": []
    },
    {
      "cell_type": "code",
      "source": [
        "pd.set_option('display.max_columns', None) \n",
        "X = dataFrame.iloc[:,:5] \n",
        "X.drop(columns=['Survey_id','Ville_id'], axis=1, inplace=True)\n",
        "y = dataFrame.iloc[:,-1] \n",
        "print(X.iloc[0:5,:])"
      ],
      "metadata": {
        "colab": {
          "base_uri": "https://localhost:8080/"
        },
        "id": "gscN_uO5HcF7",
        "outputId": "964bc788-b346-4788-84e9-c44787a013a2"
      },
      "execution_count": 7,
      "outputs": [
        {
          "output_type": "stream",
          "name": "stdout",
          "text": [
            "   sex  Age  Married\n",
            "0    1   28        1\n",
            "1    1   23        1\n",
            "2    1   22        1\n",
            "3    1   27        1\n",
            "4    0   59        0\n"
          ]
        }
      ]
    },
    {
      "cell_type": "code",
      "source": [
        "X = pd.get_dummies(X) \n",
        "columnNames = list(X.columns) \n",
        "X = X.values \n",
        "y = y.values"
      ],
      "metadata": {
        "id": "bZuRcP6jYQSP"
      },
      "execution_count": 8,
      "outputs": []
    },
    {
      "cell_type": "code",
      "source": [
        "print(X.shape)\n",
        "print(X)\n",
        "print(y)"
      ],
      "metadata": {
        "colab": {
          "base_uri": "https://localhost:8080/"
        },
        "id": "cAVyyxfSHlz8",
        "outputId": "daf9371e-a06a-4b9c-ed20-ee05674ffeb8"
      },
      "execution_count": 9,
      "outputs": [
        {
          "output_type": "stream",
          "name": "stdout",
          "text": [
            "(1409, 3)\n",
            "[[ 1 28  1]\n",
            " [ 1 23  1]\n",
            " [ 1 22  1]\n",
            " ...\n",
            " [ 1 66  0]\n",
            " [ 1 51  1]\n",
            " [ 1 33  0]]\n",
            "[0 1 0 ... 1 0 0]\n"
          ]
        }
      ]
    },
    {
      "cell_type": "code",
      "source": [
        "scaler = StandardScaler()\n",
        "X = scaler.fit_transform(X) "
      ],
      "metadata": {
        "id": "_SQIZfMFHnJp"
      },
      "execution_count": 10,
      "outputs": []
    },
    {
      "cell_type": "code",
      "source": [
        "print(X)\n",
        "print(y)\n",
        "print(X.shape)"
      ],
      "metadata": {
        "colab": {
          "base_uri": "https://localhost:8080/"
        },
        "id": "rmsnT2-wHqae",
        "outputId": "ba37469b-8606-47a7-8b1c-1de55600bfb9"
      },
      "execution_count": 12,
      "outputs": [
        {
          "output_type": "stream",
          "name": "stdout",
          "text": [
            "[[ 0.2981136  -0.48810848  0.5398849 ]\n",
            " [ 0.2981136  -0.85053726  0.5398849 ]\n",
            " [ 0.2981136  -0.92302302  0.5398849 ]\n",
            " ...\n",
            " [ 0.2981136   2.26635024 -1.85224664]\n",
            " [ 0.2981136   1.1790639   0.5398849 ]\n",
            " [ 0.2981136  -0.1256797  -1.85224664]]\n",
            "[0 1 0 ... 1 0 0]\n",
            "(1409, 3)\n"
          ]
        }
      ]
    },
    {
      "cell_type": "code",
      "source": [
        "X_train, X_test, y_train, y_test = train_test_split(X,y,test_size = 0.2, random_state = 42 )"
      ],
      "metadata": {
        "id": "XyG2-gG7Hr2_"
      },
      "execution_count": 13,
      "outputs": []
    },
    {
      "cell_type": "code",
      "source": [
        "model = Sequential()\n",
        "model.add(Dense(4,activation='relu'))\n",
        "model.add(Dense(5,activation='relu'))\n",
        "model.add(Dense(6,activation='relu'))\n",
        "model.add(Dense(1,activation='sigmoid')) \n",
        "\n",
        "adam = Adam(learning_rate=0.001) \n",
        "model.compile(loss='binary_crossentropy', optimizer=adam, metrics = ['accuracy'])"
      ],
      "metadata": {
        "id": "Hjre0ZzaHtzr"
      },
      "execution_count": 14,
      "outputs": []
    },
    {
      "cell_type": "code",
      "source": [
        "model.fit(X_train,y_train,epochs=100, verbose=1)"
      ],
      "metadata": {
        "colab": {
          "base_uri": "https://localhost:8080/"
        },
        "id": "atf3Wv8JHzIv",
        "outputId": "9320b429-bc8b-4919-f4f4-2893522aaa47"
      },
      "execution_count": 27,
      "outputs": [
        {
          "output_type": "stream",
          "name": "stdout",
          "text": [
            "Epoch 1/100\n",
            "36/36 [==============================] - 0s 2ms/step - loss: 0.4490 - accuracy: 0.8279\n",
            "Epoch 2/100\n",
            "36/36 [==============================] - 0s 2ms/step - loss: 0.4489 - accuracy: 0.8279\n",
            "Epoch 3/100\n",
            "36/36 [==============================] - 0s 2ms/step - loss: 0.4489 - accuracy: 0.8279\n",
            "Epoch 4/100\n",
            "36/36 [==============================] - 0s 2ms/step - loss: 0.4487 - accuracy: 0.8279\n",
            "Epoch 5/100\n",
            "36/36 [==============================] - 0s 2ms/step - loss: 0.4488 - accuracy: 0.8279\n",
            "Epoch 6/100\n",
            "36/36 [==============================] - 0s 2ms/step - loss: 0.4490 - accuracy: 0.8279\n",
            "Epoch 7/100\n",
            "36/36 [==============================] - 0s 2ms/step - loss: 0.4488 - accuracy: 0.8279\n",
            "Epoch 8/100\n",
            "36/36 [==============================] - 0s 2ms/step - loss: 0.4490 - accuracy: 0.8279\n",
            "Epoch 9/100\n",
            "36/36 [==============================] - 0s 2ms/step - loss: 0.4495 - accuracy: 0.8279\n",
            "Epoch 10/100\n",
            "36/36 [==============================] - 0s 2ms/step - loss: 0.4489 - accuracy: 0.8279\n",
            "Epoch 11/100\n",
            "36/36 [==============================] - 0s 2ms/step - loss: 0.4487 - accuracy: 0.8279\n",
            "Epoch 12/100\n",
            "36/36 [==============================] - 0s 2ms/step - loss: 0.4489 - accuracy: 0.8279\n",
            "Epoch 13/100\n",
            "36/36 [==============================] - 0s 2ms/step - loss: 0.4493 - accuracy: 0.8279\n",
            "Epoch 14/100\n",
            "36/36 [==============================] - 0s 2ms/step - loss: 0.4490 - accuracy: 0.8279\n",
            "Epoch 15/100\n",
            "36/36 [==============================] - 0s 2ms/step - loss: 0.4486 - accuracy: 0.8279\n",
            "Epoch 16/100\n",
            "36/36 [==============================] - 0s 2ms/step - loss: 0.4489 - accuracy: 0.8279\n",
            "Epoch 17/100\n",
            "36/36 [==============================] - 0s 2ms/step - loss: 0.4491 - accuracy: 0.8279\n",
            "Epoch 18/100\n",
            "36/36 [==============================] - 0s 2ms/step - loss: 0.4489 - accuracy: 0.8279\n",
            "Epoch 19/100\n",
            "36/36 [==============================] - 0s 2ms/step - loss: 0.4487 - accuracy: 0.8279\n",
            "Epoch 20/100\n",
            "36/36 [==============================] - 0s 2ms/step - loss: 0.4488 - accuracy: 0.8279\n",
            "Epoch 21/100\n",
            "36/36 [==============================] - 0s 2ms/step - loss: 0.4488 - accuracy: 0.8279\n",
            "Epoch 22/100\n",
            "36/36 [==============================] - 0s 2ms/step - loss: 0.4485 - accuracy: 0.8279\n",
            "Epoch 23/100\n",
            "36/36 [==============================] - 0s 2ms/step - loss: 0.4489 - accuracy: 0.8279\n",
            "Epoch 24/100\n",
            "36/36 [==============================] - 0s 2ms/step - loss: 0.4486 - accuracy: 0.8279\n",
            "Epoch 25/100\n",
            "36/36 [==============================] - 0s 2ms/step - loss: 0.4487 - accuracy: 0.8279\n",
            "Epoch 26/100\n",
            "36/36 [==============================] - 0s 2ms/step - loss: 0.4491 - accuracy: 0.8279\n",
            "Epoch 27/100\n",
            "36/36 [==============================] - 0s 2ms/step - loss: 0.4490 - accuracy: 0.8279\n",
            "Epoch 28/100\n",
            "36/36 [==============================] - 0s 2ms/step - loss: 0.4486 - accuracy: 0.8279\n",
            "Epoch 29/100\n",
            "36/36 [==============================] - 0s 2ms/step - loss: 0.4487 - accuracy: 0.8279\n",
            "Epoch 30/100\n",
            "36/36 [==============================] - 0s 2ms/step - loss: 0.4486 - accuracy: 0.8279\n",
            "Epoch 31/100\n",
            "36/36 [==============================] - 0s 2ms/step - loss: 0.4487 - accuracy: 0.8279\n",
            "Epoch 32/100\n",
            "36/36 [==============================] - 0s 2ms/step - loss: 0.4487 - accuracy: 0.8279\n",
            "Epoch 33/100\n",
            "36/36 [==============================] - 0s 2ms/step - loss: 0.4485 - accuracy: 0.8279\n",
            "Epoch 34/100\n",
            "36/36 [==============================] - 0s 2ms/step - loss: 0.4485 - accuracy: 0.8279\n",
            "Epoch 35/100\n",
            "36/36 [==============================] - 0s 2ms/step - loss: 0.4487 - accuracy: 0.8279\n",
            "Epoch 36/100\n",
            "36/36 [==============================] - 0s 2ms/step - loss: 0.4484 - accuracy: 0.8279\n",
            "Epoch 37/100\n",
            "36/36 [==============================] - 0s 2ms/step - loss: 0.4483 - accuracy: 0.8279\n",
            "Epoch 38/100\n",
            "36/36 [==============================] - 0s 2ms/step - loss: 0.4483 - accuracy: 0.8279\n",
            "Epoch 39/100\n",
            "36/36 [==============================] - 0s 2ms/step - loss: 0.4486 - accuracy: 0.8279\n",
            "Epoch 40/100\n",
            "36/36 [==============================] - 0s 2ms/step - loss: 0.4485 - accuracy: 0.8279\n",
            "Epoch 41/100\n",
            "36/36 [==============================] - 0s 2ms/step - loss: 0.4484 - accuracy: 0.8279\n",
            "Epoch 42/100\n",
            "36/36 [==============================] - 0s 2ms/step - loss: 0.4485 - accuracy: 0.8279\n",
            "Epoch 43/100\n",
            "36/36 [==============================] - 0s 2ms/step - loss: 0.4486 - accuracy: 0.8279\n",
            "Epoch 44/100\n",
            "36/36 [==============================] - 0s 2ms/step - loss: 0.4484 - accuracy: 0.8279\n",
            "Epoch 45/100\n",
            "36/36 [==============================] - 0s 2ms/step - loss: 0.4483 - accuracy: 0.8279\n",
            "Epoch 46/100\n",
            "36/36 [==============================] - 0s 2ms/step - loss: 0.4484 - accuracy: 0.8279\n",
            "Epoch 47/100\n",
            "36/36 [==============================] - 0s 2ms/step - loss: 0.4489 - accuracy: 0.8279\n",
            "Epoch 48/100\n",
            "36/36 [==============================] - 0s 2ms/step - loss: 0.4485 - accuracy: 0.8279\n",
            "Epoch 49/100\n",
            "36/36 [==============================] - 0s 2ms/step - loss: 0.4484 - accuracy: 0.8279\n",
            "Epoch 50/100\n",
            "36/36 [==============================] - 0s 2ms/step - loss: 0.4482 - accuracy: 0.8279\n",
            "Epoch 51/100\n",
            "36/36 [==============================] - 0s 2ms/step - loss: 0.4485 - accuracy: 0.8279\n",
            "Epoch 52/100\n",
            "36/36 [==============================] - 0s 2ms/step - loss: 0.4485 - accuracy: 0.8279\n",
            "Epoch 53/100\n",
            "36/36 [==============================] - 0s 2ms/step - loss: 0.4484 - accuracy: 0.8279\n",
            "Epoch 54/100\n",
            "36/36 [==============================] - 0s 3ms/step - loss: 0.4482 - accuracy: 0.8279\n",
            "Epoch 55/100\n",
            "36/36 [==============================] - 0s 2ms/step - loss: 0.4486 - accuracy: 0.8279\n",
            "Epoch 56/100\n",
            "36/36 [==============================] - 0s 2ms/step - loss: 0.4483 - accuracy: 0.8279\n",
            "Epoch 57/100\n",
            "36/36 [==============================] - 0s 2ms/step - loss: 0.4484 - accuracy: 0.8279\n",
            "Epoch 58/100\n",
            "36/36 [==============================] - 0s 2ms/step - loss: 0.4480 - accuracy: 0.8279\n",
            "Epoch 59/100\n",
            "36/36 [==============================] - 0s 2ms/step - loss: 0.4488 - accuracy: 0.8279\n",
            "Epoch 60/100\n",
            "36/36 [==============================] - 0s 2ms/step - loss: 0.4484 - accuracy: 0.8279\n",
            "Epoch 61/100\n",
            "36/36 [==============================] - 0s 2ms/step - loss: 0.4484 - accuracy: 0.8279\n",
            "Epoch 62/100\n",
            "36/36 [==============================] - 0s 2ms/step - loss: 0.4484 - accuracy: 0.8279\n",
            "Epoch 63/100\n",
            "36/36 [==============================] - 0s 2ms/step - loss: 0.4483 - accuracy: 0.8279\n",
            "Epoch 64/100\n",
            "36/36 [==============================] - 0s 2ms/step - loss: 0.4481 - accuracy: 0.8279\n",
            "Epoch 65/100\n",
            "36/36 [==============================] - 0s 2ms/step - loss: 0.4483 - accuracy: 0.8279\n",
            "Epoch 66/100\n",
            "36/36 [==============================] - 0s 2ms/step - loss: 0.4481 - accuracy: 0.8279\n",
            "Epoch 67/100\n",
            "36/36 [==============================] - 0s 2ms/step - loss: 0.4481 - accuracy: 0.8279\n",
            "Epoch 68/100\n",
            "36/36 [==============================] - 0s 2ms/step - loss: 0.4482 - accuracy: 0.8279\n",
            "Epoch 69/100\n",
            "36/36 [==============================] - 0s 2ms/step - loss: 0.4480 - accuracy: 0.8279\n",
            "Epoch 70/100\n",
            "36/36 [==============================] - 0s 2ms/step - loss: 0.4479 - accuracy: 0.8279\n",
            "Epoch 71/100\n",
            "36/36 [==============================] - 0s 2ms/step - loss: 0.4479 - accuracy: 0.8279\n",
            "Epoch 72/100\n",
            "36/36 [==============================] - 0s 2ms/step - loss: 0.4480 - accuracy: 0.8279\n",
            "Epoch 73/100\n",
            "36/36 [==============================] - 0s 2ms/step - loss: 0.4480 - accuracy: 0.8279\n",
            "Epoch 74/100\n",
            "36/36 [==============================] - 0s 2ms/step - loss: 0.4481 - accuracy: 0.8279\n",
            "Epoch 75/100\n",
            "36/36 [==============================] - 0s 2ms/step - loss: 0.4485 - accuracy: 0.8279\n",
            "Epoch 76/100\n",
            "36/36 [==============================] - 0s 2ms/step - loss: 0.4482 - accuracy: 0.8279\n",
            "Epoch 77/100\n",
            "36/36 [==============================] - 0s 2ms/step - loss: 0.4481 - accuracy: 0.8279\n",
            "Epoch 78/100\n",
            "36/36 [==============================] - 0s 2ms/step - loss: 0.4483 - accuracy: 0.8279\n",
            "Epoch 79/100\n",
            "36/36 [==============================] - 0s 2ms/step - loss: 0.4483 - accuracy: 0.8279\n",
            "Epoch 80/100\n",
            "36/36 [==============================] - 0s 2ms/step - loss: 0.4480 - accuracy: 0.8279\n",
            "Epoch 81/100\n",
            "36/36 [==============================] - 0s 2ms/step - loss: 0.4481 - accuracy: 0.8279\n",
            "Epoch 82/100\n",
            "36/36 [==============================] - 0s 2ms/step - loss: 0.4477 - accuracy: 0.8279\n",
            "Epoch 83/100\n",
            "36/36 [==============================] - 0s 2ms/step - loss: 0.4480 - accuracy: 0.8279\n",
            "Epoch 84/100\n",
            "36/36 [==============================] - 0s 2ms/step - loss: 0.4482 - accuracy: 0.8279\n",
            "Epoch 85/100\n",
            "36/36 [==============================] - 0s 2ms/step - loss: 0.4482 - accuracy: 0.8279\n",
            "Epoch 86/100\n",
            "36/36 [==============================] - 0s 2ms/step - loss: 0.4483 - accuracy: 0.8279\n",
            "Epoch 87/100\n",
            "36/36 [==============================] - 0s 2ms/step - loss: 0.4481 - accuracy: 0.8279\n",
            "Epoch 88/100\n",
            "36/36 [==============================] - 0s 2ms/step - loss: 0.4479 - accuracy: 0.8279\n",
            "Epoch 89/100\n",
            "36/36 [==============================] - 0s 2ms/step - loss: 0.4480 - accuracy: 0.8279\n",
            "Epoch 90/100\n",
            "36/36 [==============================] - 0s 2ms/step - loss: 0.4479 - accuracy: 0.8279\n",
            "Epoch 91/100\n",
            "36/36 [==============================] - 0s 2ms/step - loss: 0.4478 - accuracy: 0.8279\n",
            "Epoch 92/100\n",
            "36/36 [==============================] - 0s 2ms/step - loss: 0.4480 - accuracy: 0.8279\n",
            "Epoch 93/100\n",
            "36/36 [==============================] - 0s 2ms/step - loss: 0.4479 - accuracy: 0.8279\n",
            "Epoch 94/100\n",
            "36/36 [==============================] - 0s 2ms/step - loss: 0.4481 - accuracy: 0.8279\n",
            "Epoch 95/100\n",
            "36/36 [==============================] - 0s 2ms/step - loss: 0.4478 - accuracy: 0.8279\n",
            "Epoch 96/100\n",
            "36/36 [==============================] - 0s 2ms/step - loss: 0.4477 - accuracy: 0.8279\n",
            "Epoch 97/100\n",
            "36/36 [==============================] - 0s 2ms/step - loss: 0.4478 - accuracy: 0.8279\n",
            "Epoch 98/100\n",
            "36/36 [==============================] - 0s 2ms/step - loss: 0.4477 - accuracy: 0.8279\n",
            "Epoch 99/100\n",
            "36/36 [==============================] - 0s 2ms/step - loss: 0.4481 - accuracy: 0.8279\n",
            "Epoch 100/100\n",
            "36/36 [==============================] - 0s 2ms/step - loss: 0.4477 - accuracy: 0.8279\n"
          ]
        },
        {
          "output_type": "execute_result",
          "data": {
            "text/plain": [
              "<keras.callbacks.History at 0x7f5b7c67a990>"
            ]
          },
          "metadata": {},
          "execution_count": 27
        }
      ]
    },
    {
      "cell_type": "code",
      "source": [
        "loss = model.history.history['loss']\n",
        "sns.lineplot(x=range(len(loss)),y=loss)"
      ],
      "metadata": {
        "id": "_NuTju6PcFI2"
      },
      "execution_count": null,
      "outputs": []
    },
    {
      "cell_type": "code",
      "source": [
        "model.evaluate(X_test,y_test) "
      ],
      "metadata": {
        "colab": {
          "base_uri": "https://localhost:8080/"
        },
        "id": "rnT-VLJ9cFDk",
        "outputId": "d82ea20d-521a-4323-c6f9-2468ef630821"
      },
      "execution_count": 28,
      "outputs": [
        {
          "output_type": "stream",
          "name": "stdout",
          "text": [
            "9/9 [==============================] - 0s 2ms/step - loss: 0.4247 - accuracy: 0.8546\n"
          ]
        },
        {
          "output_type": "execute_result",
          "data": {
            "text/plain": [
              "[0.424739271402359, 0.8546099066734314]"
            ]
          },
          "metadata": {},
          "execution_count": 28
        }
      ]
    },
    {
      "cell_type": "code",
      "source": [
        "print(columnNames)\n",
        "prediction = model.predict([[0,25,1]])\n",
        "print(prediction)"
      ],
      "metadata": {
        "colab": {
          "base_uri": "https://localhost:8080/"
        },
        "id": "wL6-8NDLcsGn",
        "outputId": "310f9b43-f291-46bc-92e3-9190b39141d2"
      },
      "execution_count": 37,
      "outputs": [
        {
          "output_type": "stream",
          "name": "stdout",
          "text": [
            "['sex', 'Age', 'Married']\n",
            "[[0.20508593]]\n"
          ]
        }
      ]
    }
  ]
}